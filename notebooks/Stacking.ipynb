{
 "cells": [
  {
   "cell_type": "code",
   "execution_count": 1,
   "id": "fbf17daf",
   "metadata": {},
   "outputs": [],
   "source": [
    "import pandas as pd"
   ]
  },
  {
   "cell_type": "code",
   "execution_count": 2,
   "id": "9039ac93",
   "metadata": {},
   "outputs": [],
   "source": [
    "working_dir = r'C:\\Users\\darak\\OneDrive\\Documents\\Python Scripts\\Astrophotography Stacking'\n",
    "csv_filename = 'output_dimension_log.csv'"
   ]
  },
  {
   "cell_type": "code",
   "execution_count": 3,
   "id": "3ae5293d",
   "metadata": {},
   "outputs": [],
   "source": [
    "import os"
   ]
  },
  {
   "cell_type": "code",
   "execution_count": 4,
   "id": "89f67c88",
   "metadata": {},
   "outputs": [],
   "source": [
    "df = pd.read_csv(os.path.join(working_dir, csv_filename))"
   ]
  },
  {
   "cell_type": "code",
   "execution_count": 5,
   "id": "da7eddd0",
   "metadata": {},
   "outputs": [
    {
     "data": {
      "text/html": [
       "<div>\n",
       "<style scoped>\n",
       "    .dataframe tbody tr th:only-of-type {\n",
       "        vertical-align: middle;\n",
       "    }\n",
       "\n",
       "    .dataframe tbody tr th {\n",
       "        vertical-align: top;\n",
       "    }\n",
       "\n",
       "    .dataframe thead th {\n",
       "        text-align: right;\n",
       "    }\n",
       "</style>\n",
       "<table border=\"1\" class=\"dataframe\">\n",
       "  <thead>\n",
       "    <tr style=\"text-align: right;\">\n",
       "      <th></th>\n",
       "      <th>Input File</th>\n",
       "      <th>Output File</th>\n",
       "      <th>YMIN</th>\n",
       "      <th>YMAX</th>\n",
       "      <th>XMIN</th>\n",
       "      <th>XMAX</th>\n",
       "      <th>YDIM</th>\n",
       "      <th>XDIM</th>\n",
       "    </tr>\n",
       "  </thead>\n",
       "  <tbody>\n",
       "    <tr>\n",
       "      <th>236</th>\n",
       "      <td>MVI_6450 31.jpg</td>\n",
       "      <td>crop_237.jpeg</td>\n",
       "      <td>111</td>\n",
       "      <td>328</td>\n",
       "      <td>745</td>\n",
       "      <td>961</td>\n",
       "      <td>217</td>\n",
       "      <td>216</td>\n",
       "    </tr>\n",
       "    <tr>\n",
       "      <th>237</th>\n",
       "      <td>MVI_6450 32.jpg</td>\n",
       "      <td>crop_238.jpeg</td>\n",
       "      <td>122</td>\n",
       "      <td>341</td>\n",
       "      <td>745</td>\n",
       "      <td>959</td>\n",
       "      <td>219</td>\n",
       "      <td>214</td>\n",
       "    </tr>\n",
       "    <tr>\n",
       "      <th>238</th>\n",
       "      <td>MVI_6450 33.jpg</td>\n",
       "      <td>crop_239.jpeg</td>\n",
       "      <td>127</td>\n",
       "      <td>347</td>\n",
       "      <td>741</td>\n",
       "      <td>957</td>\n",
       "      <td>220</td>\n",
       "      <td>216</td>\n",
       "    </tr>\n",
       "    <tr>\n",
       "      <th>239</th>\n",
       "      <td>MVI_6450 34.jpg</td>\n",
       "      <td>crop_240.jpeg</td>\n",
       "      <td>135</td>\n",
       "      <td>351</td>\n",
       "      <td>739</td>\n",
       "      <td>953</td>\n",
       "      <td>216</td>\n",
       "      <td>214</td>\n",
       "    </tr>\n",
       "    <tr>\n",
       "      <th>240</th>\n",
       "      <td>MVI_6450 35.jpg</td>\n",
       "      <td>crop_241.jpeg</td>\n",
       "      <td>138</td>\n",
       "      <td>355</td>\n",
       "      <td>742</td>\n",
       "      <td>959</td>\n",
       "      <td>217</td>\n",
       "      <td>217</td>\n",
       "    </tr>\n",
       "    <tr>\n",
       "      <th>241</th>\n",
       "      <td>MVI_6450 36.jpg</td>\n",
       "      <td>crop_242.jpeg</td>\n",
       "      <td>137</td>\n",
       "      <td>356</td>\n",
       "      <td>741</td>\n",
       "      <td>956</td>\n",
       "      <td>219</td>\n",
       "      <td>215</td>\n",
       "    </tr>\n",
       "    <tr>\n",
       "      <th>242</th>\n",
       "      <td>MVI_6450 37.jpg</td>\n",
       "      <td>crop_243.jpeg</td>\n",
       "      <td>108</td>\n",
       "      <td>326</td>\n",
       "      <td>745</td>\n",
       "      <td>960</td>\n",
       "      <td>218</td>\n",
       "      <td>215</td>\n",
       "    </tr>\n",
       "    <tr>\n",
       "      <th>243</th>\n",
       "      <td>MVI_6450 38.jpg</td>\n",
       "      <td>crop_244.jpeg</td>\n",
       "      <td>125</td>\n",
       "      <td>343</td>\n",
       "      <td>745</td>\n",
       "      <td>961</td>\n",
       "      <td>218</td>\n",
       "      <td>216</td>\n",
       "    </tr>\n",
       "    <tr>\n",
       "      <th>244</th>\n",
       "      <td>MVI_6450 39.jpg</td>\n",
       "      <td>crop_245.jpeg</td>\n",
       "      <td>131</td>\n",
       "      <td>352</td>\n",
       "      <td>743</td>\n",
       "      <td>958</td>\n",
       "      <td>221</td>\n",
       "      <td>215</td>\n",
       "    </tr>\n",
       "    <tr>\n",
       "      <th>245</th>\n",
       "      <td>MVI_6450 40.jpg</td>\n",
       "      <td>crop_246.jpeg</td>\n",
       "      <td>143</td>\n",
       "      <td>358</td>\n",
       "      <td>742</td>\n",
       "      <td>957</td>\n",
       "      <td>215</td>\n",
       "      <td>215</td>\n",
       "    </tr>\n",
       "    <tr>\n",
       "      <th>246</th>\n",
       "      <td>MVI_6450 41.jpg</td>\n",
       "      <td>crop_247.jpeg</td>\n",
       "      <td>126</td>\n",
       "      <td>345</td>\n",
       "      <td>738</td>\n",
       "      <td>955</td>\n",
       "      <td>219</td>\n",
       "      <td>217</td>\n",
       "    </tr>\n",
       "    <tr>\n",
       "      <th>247</th>\n",
       "      <td>MVI_6450 42.jpg</td>\n",
       "      <td>crop_248.jpeg</td>\n",
       "      <td>132</td>\n",
       "      <td>355</td>\n",
       "      <td>736</td>\n",
       "      <td>954</td>\n",
       "      <td>223</td>\n",
       "      <td>218</td>\n",
       "    </tr>\n",
       "    <tr>\n",
       "      <th>248</th>\n",
       "      <td>MVI_6450 43.jpg</td>\n",
       "      <td>crop_249.jpeg</td>\n",
       "      <td>137</td>\n",
       "      <td>354</td>\n",
       "      <td>736</td>\n",
       "      <td>950</td>\n",
       "      <td>217</td>\n",
       "      <td>214</td>\n",
       "    </tr>\n",
       "    <tr>\n",
       "      <th>249</th>\n",
       "      <td>MVI_6450 44.jpg</td>\n",
       "      <td>crop_250.jpeg</td>\n",
       "      <td>125</td>\n",
       "      <td>340</td>\n",
       "      <td>737</td>\n",
       "      <td>950</td>\n",
       "      <td>215</td>\n",
       "      <td>213</td>\n",
       "    </tr>\n",
       "    <tr>\n",
       "      <th>250</th>\n",
       "      <td>MVI_6450 45.jpg</td>\n",
       "      <td>crop_251.jpeg</td>\n",
       "      <td>129</td>\n",
       "      <td>346</td>\n",
       "      <td>734</td>\n",
       "      <td>948</td>\n",
       "      <td>217</td>\n",
       "      <td>214</td>\n",
       "    </tr>\n",
       "    <tr>\n",
       "      <th>251</th>\n",
       "      <td>MVI_6450 46.jpg</td>\n",
       "      <td>crop_252.jpeg</td>\n",
       "      <td>127</td>\n",
       "      <td>349</td>\n",
       "      <td>734</td>\n",
       "      <td>949</td>\n",
       "      <td>222</td>\n",
       "      <td>215</td>\n",
       "    </tr>\n",
       "    <tr>\n",
       "      <th>252</th>\n",
       "      <td>MVI_6450 47.jpg</td>\n",
       "      <td>crop_253.jpeg</td>\n",
       "      <td>125</td>\n",
       "      <td>342</td>\n",
       "      <td>734</td>\n",
       "      <td>948</td>\n",
       "      <td>217</td>\n",
       "      <td>214</td>\n",
       "    </tr>\n",
       "    <tr>\n",
       "      <th>253</th>\n",
       "      <td>MVI_6450 48.jpg</td>\n",
       "      <td>crop_254.jpeg</td>\n",
       "      <td>129</td>\n",
       "      <td>350</td>\n",
       "      <td>731</td>\n",
       "      <td>947</td>\n",
       "      <td>221</td>\n",
       "      <td>216</td>\n",
       "    </tr>\n",
       "    <tr>\n",
       "      <th>254</th>\n",
       "      <td>MVI_6450 49.jpg</td>\n",
       "      <td>crop_255.jpeg</td>\n",
       "      <td>153</td>\n",
       "      <td>368</td>\n",
       "      <td>744</td>\n",
       "      <td>959</td>\n",
       "      <td>215</td>\n",
       "      <td>215</td>\n",
       "    </tr>\n",
       "    <tr>\n",
       "      <th>255</th>\n",
       "      <td>MVI_6450 50.jpg</td>\n",
       "      <td>crop_256.jpeg</td>\n",
       "      <td>135</td>\n",
       "      <td>357</td>\n",
       "      <td>737</td>\n",
       "      <td>954</td>\n",
       "      <td>222</td>\n",
       "      <td>217</td>\n",
       "    </tr>\n",
       "  </tbody>\n",
       "</table>\n",
       "</div>"
      ],
      "text/plain": [
       "          Input File    Output File  YMIN  YMAX  XMIN  XMAX  YDIM  XDIM\n",
       "236  MVI_6450 31.jpg  crop_237.jpeg   111   328   745   961   217   216\n",
       "237  MVI_6450 32.jpg  crop_238.jpeg   122   341   745   959   219   214\n",
       "238  MVI_6450 33.jpg  crop_239.jpeg   127   347   741   957   220   216\n",
       "239  MVI_6450 34.jpg  crop_240.jpeg   135   351   739   953   216   214\n",
       "240  MVI_6450 35.jpg  crop_241.jpeg   138   355   742   959   217   217\n",
       "241  MVI_6450 36.jpg  crop_242.jpeg   137   356   741   956   219   215\n",
       "242  MVI_6450 37.jpg  crop_243.jpeg   108   326   745   960   218   215\n",
       "243  MVI_6450 38.jpg  crop_244.jpeg   125   343   745   961   218   216\n",
       "244  MVI_6450 39.jpg  crop_245.jpeg   131   352   743   958   221   215\n",
       "245  MVI_6450 40.jpg  crop_246.jpeg   143   358   742   957   215   215\n",
       "246  MVI_6450 41.jpg  crop_247.jpeg   126   345   738   955   219   217\n",
       "247  MVI_6450 42.jpg  crop_248.jpeg   132   355   736   954   223   218\n",
       "248  MVI_6450 43.jpg  crop_249.jpeg   137   354   736   950   217   214\n",
       "249  MVI_6450 44.jpg  crop_250.jpeg   125   340   737   950   215   213\n",
       "250  MVI_6450 45.jpg  crop_251.jpeg   129   346   734   948   217   214\n",
       "251  MVI_6450 46.jpg  crop_252.jpeg   127   349   734   949   222   215\n",
       "252  MVI_6450 47.jpg  crop_253.jpeg   125   342   734   948   217   214\n",
       "253  MVI_6450 48.jpg  crop_254.jpeg   129   350   731   947   221   216\n",
       "254  MVI_6450 49.jpg  crop_255.jpeg   153   368   744   959   215   215\n",
       "255  MVI_6450 50.jpg  crop_256.jpeg   135   357   737   954   222   217"
      ]
     },
     "execution_count": 5,
     "metadata": {},
     "output_type": "execute_result"
    }
   ],
   "source": [
    "df.tail(20)"
   ]
  },
  {
   "cell_type": "code",
   "execution_count": 6,
   "id": "568c31b2",
   "metadata": {},
   "outputs": [
    {
     "name": "stdout",
     "output_type": "stream",
     "text": [
      "215\n"
     ]
    }
   ],
   "source": [
    "print(df['XDIM'].loc[df.index[254]])"
   ]
  },
  {
   "cell_type": "code",
   "execution_count": 7,
   "id": "4286893a",
   "metadata": {},
   "outputs": [],
   "source": [
    "df_20 = df.tail(20)"
   ]
  },
  {
   "cell_type": "code",
   "execution_count": 12,
   "id": "082a7008",
   "metadata": {},
   "outputs": [
    {
     "data": {
      "text/plain": [
       "Input File     MVI_6450 50.jpg\n",
       "Output File      crop_256.jpeg\n",
       "YMIN                       153\n",
       "YMAX                       368\n",
       "XMIN                       745\n",
       "XMAX                       961\n",
       "YDIM                       223\n",
       "XDIM                       218\n",
       "dtype: object"
      ]
     },
     "execution_count": 12,
     "metadata": {},
     "output_type": "execute_result"
    }
   ],
   "source": [
    "df_20.max()"
   ]
  },
  {
   "cell_type": "code",
   "execution_count": 22,
   "id": "54a13a39",
   "metadata": {},
   "outputs": [],
   "source": [
    "max_values = df_20.max(axis=0)"
   ]
  },
  {
   "cell_type": "code",
   "execution_count": 26,
   "id": "1df6a799",
   "metadata": {},
   "outputs": [
    {
     "data": {
      "text/plain": [
       "223"
      ]
     },
     "execution_count": 26,
     "metadata": {},
     "output_type": "execute_result"
    }
   ],
   "source": [
    "max_values['YDIM']"
   ]
  },
  {
   "cell_type": "code",
   "execution_count": 28,
   "id": "ae4103c7",
   "metadata": {},
   "outputs": [],
   "source": [
    "import numpy as np"
   ]
  },
  {
   "cell_type": "code",
   "execution_count": 29,
   "id": "ed155040",
   "metadata": {},
   "outputs": [
    {
     "data": {
      "text/plain": [
       "223"
      ]
     },
     "execution_count": 29,
     "metadata": {},
     "output_type": "execute_result"
    }
   ],
   "source": [
    "np.amax([max_values['XDIM'], max_values['YDIM']])"
   ]
  },
  {
   "cell_type": "code",
   "execution_count": 34,
   "id": "fade648b",
   "metadata": {},
   "outputs": [
    {
     "name": "stdout",
     "output_type": "stream",
     "text": [
      "236 crop_237.jpeg\n",
      "237 crop_238.jpeg\n",
      "238 crop_239.jpeg\n",
      "239 crop_240.jpeg\n",
      "240 crop_241.jpeg\n",
      "241 crop_242.jpeg\n",
      "242 crop_243.jpeg\n",
      "243 crop_244.jpeg\n",
      "244 crop_245.jpeg\n",
      "245 crop_246.jpeg\n",
      "246 crop_247.jpeg\n",
      "247 crop_248.jpeg\n",
      "248 crop_249.jpeg\n",
      "249 crop_250.jpeg\n",
      "250 crop_251.jpeg\n",
      "251 crop_252.jpeg\n",
      "252 crop_253.jpeg\n",
      "253 crop_254.jpeg\n",
      "254 crop_255.jpeg\n",
      "255 crop_256.jpeg\n"
     ]
    }
   ],
   "source": [
    "for index, row in df_20.iterrows():\n",
    "    print(index, row[\"Output File\"])"
   ]
  },
  {
   "cell_type": "code",
   "execution_count": 35,
   "id": "1f201a96",
   "metadata": {},
   "outputs": [],
   "source": [
    "df_a = df_20.reset_index()"
   ]
  },
  {
   "cell_type": "code",
   "execution_count": 36,
   "id": "5ce340ef",
   "metadata": {},
   "outputs": [
    {
     "name": "stdout",
     "output_type": "stream",
     "text": [
      "0 crop_237.jpeg\n",
      "1 crop_238.jpeg\n",
      "2 crop_239.jpeg\n",
      "3 crop_240.jpeg\n",
      "4 crop_241.jpeg\n",
      "5 crop_242.jpeg\n",
      "6 crop_243.jpeg\n",
      "7 crop_244.jpeg\n",
      "8 crop_245.jpeg\n",
      "9 crop_246.jpeg\n",
      "10 crop_247.jpeg\n",
      "11 crop_248.jpeg\n",
      "12 crop_249.jpeg\n",
      "13 crop_250.jpeg\n",
      "14 crop_251.jpeg\n",
      "15 crop_252.jpeg\n",
      "16 crop_253.jpeg\n",
      "17 crop_254.jpeg\n",
      "18 crop_255.jpeg\n",
      "19 crop_256.jpeg\n"
     ]
    }
   ],
   "source": [
    "for index, row in df_a.iterrows():\n",
    "    print(index, row[\"Output File\"])"
   ]
  },
  {
   "cell_type": "code",
   "execution_count": null,
   "id": "59068181",
   "metadata": {},
   "outputs": [],
   "source": []
  }
 ],
 "metadata": {
  "kernelspec": {
   "display_name": "Python 3 (ipykernel)",
   "language": "python",
   "name": "python3"
  },
  "language_info": {
   "codemirror_mode": {
    "name": "ipython",
    "version": 3
   },
   "file_extension": ".py",
   "mimetype": "text/x-python",
   "name": "python",
   "nbconvert_exporter": "python",
   "pygments_lexer": "ipython3",
   "version": "3.9.17"
  }
 },
 "nbformat": 4,
 "nbformat_minor": 5
}
